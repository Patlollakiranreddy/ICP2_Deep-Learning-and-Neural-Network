{
  "nbformat": 4,
  "nbformat_minor": 0,
  "metadata": {
    "colab": {
      "provenance": []
    },
    "kernelspec": {
      "name": "python3",
      "display_name": "Python 3"
    },
    "language_info": {
      "name": "python"
    }
  },
  "cells": [
    {
      "cell_type": "markdown",
      "source": [],
      "metadata": {
        "id": "572X8gMCtvMr"
      }
    },
    {
      "cell_type": "code",
      "source": [
        "# Import Numpy Library\n",
        "import numpy as np"
      ],
      "metadata": {
        "id": "0wvw4TuutvqK"
      },
      "execution_count": 1,
      "outputs": []
    },
    {
      "cell_type": "code",
      "source": [
        "# created class Employee\n",
        "class Employee():\n",
        "    # create data members to keep count of employee count and list of salaries\n",
        "    emp_count = 0\n",
        "\n",
        "    # constructor to initilize the variables\n",
        "    def __init__(self,name,family,salary,department):\n",
        "        self.name = name,\n",
        "        self.family = family,\n",
        "        self.salary = salary,\n",
        "        self.department = department,\n",
        "        Employee.emp_count += 1\n",
        "\n",
        "    # funtion to return average of salary\n",
        "    def avg_salary(employees:list):\n",
        "        # calculate salaries average\n",
        "        salaries_list = [emp.salary[0] for emp in employees]\n",
        "        # print(emp.salary[0] for emp in employees)\n",
        "        avg_sal = sum(salaries_list)/Employee.emp_count     # method 1 : generic\n",
        "        # avg_sal = np.mean(salaries_list)                      # method 2 : using numpy\n",
        "        return avg_sal\n",
        "\n",
        "# created FullTimeEmployee class and inherit the properties from Employee class\n",
        "class FullTimeEmployee(Employee):\n",
        "    def __init__(self,name,family,salary,department):\n",
        "        # calling parent class constructor\n",
        "        super().__init__(name,family,salary,department)\n",
        "\n",
        "employees = []\n",
        "employees.append(Employee(\"Naveen\",\"Indluru\",40000,\"analytics\"))\n",
        "employees.append(Employee(\"Anvesh\",\"Kalikiri\",74000,\"CTO\"))\n",
        "\n",
        "employees.append(FullTimeEmployee(\"Naveen Reddy\",\"Indluru\",50000,\"data science\"))\n",
        "employees.append(FullTimeEmployee(\"Jagadeesh\",\"Kethu\",84000,\"data analytics\"))\n",
        "\n",
        "\n",
        "print(\"using employee class\",Employee.avg_salary(employees))\n",
        "print(\"using fulltime employee class\",FullTimeEmployee.avg_salary(employees))"
      ],
      "metadata": {
        "colab": {
          "base_uri": "https://localhost:8080/"
        },
        "id": "0jNtq1iu4A_6",
        "outputId": "cbfa0763-8f2c-41e3-d83c-6e2b8d53dc0a"
      },
      "execution_count": 6,
      "outputs": [
        {
          "output_type": "stream",
          "name": "stdout",
          "text": [
            "using employee class 62000.0\n",
            "using fulltime employee class 62000.0\n"
          ]
        }
      ]
    },
    {
      "cell_type": "code",
      "source": [
        "arr = np.random.uniform(1,20,20) # created a random vector of size 20 in the range of 1 - 20.\n",
        "arr = arr.reshape(4,5) # reshaped the vector to array of (4,5) shape"
      ],
      "metadata": {
        "id": "zUxaEzFZ4R55"
      },
      "execution_count": 4,
      "outputs": []
    },
    {
      "cell_type": "code",
      "source": [
        "# Task : replace the max in each row by 0 (axis = 1)\n",
        "\n",
        "# print array before replacement\n",
        "print(\"Array before :\\n\\n\",arr,end=\"\\n\\n\\n\")\n",
        "\n",
        "# get max elements of each row and reshape it\n",
        "each_row_max = np.max(arr,axis = 1).reshape(-1,1)\n",
        "\n",
        "arr[arr == each_row_max] = 1\n",
        "\n",
        "# print array after replacement\n",
        "print(\"Array after replace the max element of each row with 1: \\n\\n\", arr)"
      ],
      "metadata": {
        "colab": {
          "base_uri": "https://localhost:8080/"
        },
        "id": "8yZzHWhP4XwX",
        "outputId": "376eb19f-579a-45b5-f53a-895f7d1fd418"
      },
      "execution_count": 5,
      "outputs": [
        {
          "output_type": "stream",
          "name": "stdout",
          "text": [
            "Array before :\n",
            "\n",
            " [[ 7.33128224  5.56995393  9.0312551   7.45693199  8.21054117]\n",
            " [ 5.97029035 14.19808821 16.83025735  7.03973153 15.09887243]\n",
            " [ 4.63396206 15.30745409  6.34197445 13.009619    2.73947355]\n",
            " [12.35704378 18.6223202   4.73015523 14.45032106  4.39796606]]\n",
            "\n",
            "\n",
            "Array after replace the max element of each row with 1: \n",
            "\n",
            " [[ 7.33128224  5.56995393  1.          7.45693199  8.21054117]\n",
            " [ 5.97029035 14.19808821  1.          7.03973153 15.09887243]\n",
            " [ 4.63396206  1.          6.34197445 13.009619    2.73947355]\n",
            " [12.35704378  1.          4.73015523 14.45032106  4.39796606]]\n"
          ]
        }
      ]
    }
  ]
}